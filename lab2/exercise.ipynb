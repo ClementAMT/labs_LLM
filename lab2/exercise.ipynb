{
 "cells": [
  {
   "cell_type": "markdown",
   "id": "ab88d307-61ba-45ef-89bc-e3569443dfca",
   "metadata": {},
   "source": [
    "# Chapter 2 - Lab 1a - Exercise\n",
    "> Author : Badr TAJINI - Large Language model (LLMs) - ESIEE 2024-2025"
   ]
  },
  {
   "cell_type": "markdown",
   "id": "6f678e62-7bcb-4405-86ae-dce94f494303",
   "metadata": {},
   "source": [
    "# Exercise 2.1"
   ]
  },
  {
   "cell_type": "markdown",
   "id": "46fde9a6",
   "metadata": {},
   "source": [
    "### Exploring Byte Pair Encoding (BPE) Tokenization with Unknown Words\n",
    "\n",
    "In this exercise, you will explore how the Byte Pair Encoding (BPE) tokenizer from the `tiktoken` library processes unknown words. BPE is a subword tokenization technique that constructs its vocabulary by iteratively merging frequent sequences of characters or subwords. This approach allows BPE tokenizers to handle previously unseen words by decomposing them into smaller, known subunits.\n",
    "\n",
    "### Objective\n",
    "Answer the following questions based on your experimentation with the tokenizer:\n",
    "\n",
    "1. How does the BPE tokenizer decompose the input phrase **\"Akwirw ier\"** into token IDs?\n",
    "2. What are the subwords or characters corresponding to each token ID in the tokenized output?\n",
    "3. Can the tokenizer's decoding process successfully reconstruct the original input phrase **\"Akwirw ier\"** from the token IDs? Why or why not?\n",
    "\n",
    "### Theoretical Background\n",
    "Byte Pair Encoding begins with a minimal vocabulary of single characters, such as **\"a,\" \"b,\" \"c,\"** and so on. The tokenizer builds upon this base by iteratively merging frequently co-occurring characters into subwords, and subsequently merging frequent subwords into complete words. The merging process is guided by a frequency threshold or cutoff. \n",
    "\n",
    "For example:\n",
    "- In the initial stage, the character **\"d\"** and **\"e\"** might frequently appear together in a corpus. The tokenizer merges these characters into the subword **\"de\"** if their co-occurrence exceeds the frequency cutoff.\n",
    "- This subword then becomes part of the tokenizer's vocabulary and is used to tokenize words where it occurs, such as **\"define,\" \"depend,\" \"made,\"** and **\"hidden.\"**\n",
    "\n",
    "This hierarchical merging enables the BPE tokenizer to strike a balance between granularity and generalization, efficiently encoding both common words and rare or unknown words by breaking them into smaller units.\n",
    "\n",
    "### Task Steps\n",
    "\n",
    "1. **Tokenization**:\n",
    "   - Use the `tiktoken` BPE tokenizer to process the unknown input string **\"Akwirw ier.\"**\n",
    "   - Print the token IDs generated for this input.\n",
    "\n",
    "2. **Subword Decoding**:\n",
    "   - For each token ID in the resulting list, use the tokenizer's `decode` function to convert the ID back into its corresponding subword or character.\n",
    "\n",
    "3. **Reconstruction**:\n",
    "   - Apply the `decode` method to the entire list of token IDs to reconstruct the original input string. Verify whether the reconstructed string matches the initial input, **\"Akwirw ier.\"**\n",
    "\n",
    "\n",
    "\n",
    "### Questions - Exercise 2.1\n",
    "1. What sequence of token IDs does the BPE tokenizer generate for the input **\"Akwirw ier\"?**\n",
    "2. What subwords or characters correspond to each token ID in the sequence?\n",
    "3. Does the reconstructed output from the token IDs match the original input? Explain your observations and reasoning.\n",
    "\n"
   ]
  },
  {
   "cell_type": "code",
   "execution_count": 14,
   "id": "ebddd84d",
   "metadata": {},
   "outputs": [
    {
     "name": "stdout",
     "output_type": "stream",
     "text": [
      "[32, 29700, 404, 86, 602, 261, 13]\n"
     ]
    }
   ],
   "source": [
    "import tiktoken\n",
    "encoding = tiktoken.get_encoding(\"cl100k_base\")\n",
    "token_id_list = encoding.encode(\"Akwirw ier.\")\n",
    "print(token_id_list)\n"
   ]
  },
  {
   "cell_type": "code",
   "execution_count": 18,
   "id": "e1b807be",
   "metadata": {},
   "outputs": [
    {
     "name": "stdout",
     "output_type": "stream",
     "text": [
      "b'A'\n",
      "b'kw'\n",
      "b'ir'\n",
      "b'w'\n",
      "b' i'\n",
      "b'er'\n",
      "b'.'\n"
     ]
    }
   ],
   "source": [
    "for id in token_id_list:\n",
    "    print(encoding.decode_single_token_bytes(id))\n"
   ]
  },
  {
   "cell_type": "code",
   "execution_count": 19,
   "id": "78f9388d",
   "metadata": {},
   "outputs": [
    {
     "data": {
      "text/plain": [
       "'Akwirw ier.'"
      ]
     },
     "execution_count": 19,
     "metadata": {},
     "output_type": "execute_result"
    }
   ],
   "source": [
    "encoding.decode(token_id_list)"
   ]
  },
  {
   "cell_type": "markdown",
   "id": "29e5034a-95ed-46d8-9972-589354dc9fd4",
   "metadata": {},
   "source": [
    "---\n",
    "\n",
    "# Exercise 2.2"
   ]
  },
  {
   "cell_type": "markdown",
   "id": "fde21e07",
   "metadata": {},
   "source": [
    "**Exercise: Exploring Data Loader Behavior with Different Parameters**\n",
    "\n",
    "Certainly! Here's the exercise rewritten in the same structured style as the first one, ensuring clarity and consistency:\n",
    "\n",
    "---\n",
    "\n",
    "**Exercise: Exploring Data Loader Behavior with Different Parameter Configurations**\n",
    "\n",
    "In this exercise, you will investigate how the parameters of a data loader—such as `max_length`, `stride`, and `batch_size`—affect the preparation of input-output pairs for training large language models (LLMs). By experimenting with these settings, you will gain a practical understanding of their impact on the data batching process and their implications for model training.\n",
    "\n",
    "### Objective\n",
    "You will:\n",
    "1. Observe how the data loader generates input-output pairs with different configurations of `max_length` and `stride`.\n",
    "2. Analyze how increasing the batch size changes the structure of the data and discuss the tradeoffs involved.\n",
    "3. Experiment with a batch size greater than 1 to understand how it impacts memory usage and input-output organization.\n",
    "\n",
    "---\n",
    "\n",
    "### Theoretical Background\n",
    "\n",
    "A data loader processes raw text data into smaller sequences suitable for training LLMs. Key parameters that influence its behavior are:\n",
    "\n",
    "1. **`max_length`**: Specifies the maximum sequence length for each input-output pair. Shorter sequences may simplify computation but can limit the context available to the model.\n",
    "   \n",
    "2. **`stride`**: Determines the step size for sliding the window over the text when creating sequences. A smaller stride increases overlap between sequences, leading to more redundancy. A larger stride reduces overlap, ensuring more unique coverage of the dataset.\n",
    "\n",
    "3. **`batch_size`**: Controls the number of sequences in a batch:\n",
    "   - **Small batches** (e.g., `batch_size=1`) are easier to process and require less memory. However, they can produce noisier gradient updates during training.\n",
    "   - **Larger batches** improve gradient stability but require more memory and computational power. This parameter is an important hyperparameter to tune during training.\n",
    "\n",
    "These parameters are central to efficient and effective preprocessing of data for training deep learning models.\n",
    "\n",
    "---\n",
    "\n",
    "### Task Steps\n",
    "\n",
    "1. **Experimenting with `max_length` and `stride`**:\n",
    "   - Run the data loader with two configurations:\n",
    "     - `max_length=2` and `stride=2`\n",
    "     - `max_length=8` and `stride=2`\n",
    "   - Observe the structure of the input-output pairs for each configuration and note how they differ.\n",
    "\n",
    "2. **Increasing Batch Size**:\n",
    "   - Experiment with a batch size of 8 using the following configuration:\n",
    "     ```python\n",
    "     dataloader = create_dataloader_v1(\n",
    "         raw_text, batch_size=8, max_length=4, stride=4,\n",
    "         shuffle=False\n",
    "     )\n",
    "     data_iter = iter(dataloader)\n",
    "     inputs, targets = next(data_iter)\n",
    "     print(\"Inputs:\\n\", inputs)\n",
    "     print(\"\\nTargets:\\n\", targets)\n",
    "     ```\n",
    "   - Examine the resulting `inputs` and `targets`. Consider how the data is structured when `batch_size` is increased compared to a batch size of 1.\n",
    "\n",
    "3. **Avoiding Overlap**:\n",
    "   - Analyze the effect of a `stride=4` setting. Note that this value ensures no overlap between sequences within a batch, minimizing redundancy and reducing the risk of overfitting.\n",
    "\n",
    "---\n",
    "\n",
    "### Questions - Exercise 2.2\n",
    "\n",
    "1. How do changes in `max_length` and `stride` affect the input-output mappings produced by the data loader?  \n",
    "2. What differences do you observe in the data when using a batch size of 8 compared to a batch size of 1?  \n",
    "3. How does using a larger stride (e.g., `stride=4`) influence the coverage of the dataset and the overlap between sequences?  \n",
    "\n",
    "---\n",
    "\n",
    "### Example Output\n",
    "\n",
    "Using the configuration:\n",
    "```python\n",
    "dataloader = create_dataloader_v1(\n",
    "    raw_text, batch_size=8, max_length=4, stride=4,\n",
    "    shuffle=False\n",
    ")\n",
    "data_iter = iter(dataloader)\n",
    "inputs, targets = next(data_iter)\n",
    "print(\"Inputs:\\n\", inputs)\n",
    "print(\"\\nTargets:\\n\", targets)\n",
    "```\n",
    "\n",
    "**Inputs**:\n",
    "```plaintext\n",
    "tensor([[   40,   367,  2885,  1464],\n",
    "        [ 1807,  3619,   402,   271],\n",
    "        [10899,  2138,   257,  7026],\n",
    "        [15632,   438,  2016,   257],\n",
    "        [  922,  5891,  1576,   438],\n",
    "        [  568,   340,   373,   645],\n",
    "        [ 1049,  5975,   284,   502],\n",
    "        [  284,  3285,   326,    11]])\n",
    "```\n",
    "\n",
    "**Targets**:\n",
    "```plaintext\n",
    "tensor([[  367,  2885,  1464,  1807],\n",
    "        [ 3619,   402,   271, 10899],\n",
    "        [ 2138,   257,  7026, 15632],\n",
    "        [  438,  2016,   257,   922],\n",
    "        [ 5891,  1576,   438,   568],\n",
    "        [  340,   373,   645,  1049],\n",
    "        [ 5975,   284,   502,   284],\n",
    "        [ 3285,   326,    11,   287]])\n",
    "```\n",
    "\n",
    "---\n",
    "\n",
    "### Expected Learning Outcomes\n",
    "\n",
    "By completing this exercise, you should:\n",
    "1. Understand how varying `max_length` and `stride` impacts the input-output pairs produced by the data loader.\n",
    "2. Appreciate the tradeoffs involved in choosing different batch sizes for training deep learning models.\n",
    "3. Gain insight into how stride settings can minimize redundancy and optimize dataset utilization."
   ]
  },
  {
   "cell_type": "code",
   "execution_count": 41,
   "id": "9a1bfb42",
   "metadata": {},
   "outputs": [
    {
     "name": "stdout",
     "output_type": "stream",
     "text": [
      "Inputs with max_length = 2 :\n",
      " [tensor([[ 40, 367]]), tensor([[ 367, 2885]])]\n",
      "Outputs with max_length = 2 :\n",
      " [tensor([[2885, 1464]]), tensor([[1464, 1807]])]\n",
      "Inputs with max_length = 8 :\n",
      " [tensor([[  40,  367, 2885, 1464, 1807, 3619,  402,  271]]), tensor([[  367,  2885,  1464,  1807,  3619,   402,   271, 10899]])]\n",
      "Outputs with max_length = 8 :\n",
      " [tensor([[ 2885,  1464,  1807,  3619,   402,   271, 10899,  2138]]), tensor([[ 1464,  1807,  3619,   402,   271, 10899,  2138,   257]])]\n"
     ]
    }
   ],
   "source": [
    "import torch \n",
    "from torch.utils.data import Dataset, DataLoader\n",
    "\n",
    "class GPTDatasetV1(Dataset):\n",
    "    def __init__(self, txt, tokenizer, max_length, stride):\n",
    "        self.input_ids = []\n",
    "        self.target_ids = []\n",
    "\n",
    "        # Tokenize the entire text\n",
    "        token_ids = tokenizer.encode(txt, allowed_special={\"<|endoftext|>\"})\n",
    "\n",
    "        # Use a sliding window to chunk the book into overlapping sequences of max_length\n",
    "        for i in range(0, len(token_ids) - max_length, stride):\n",
    "            input_chunk = token_ids[i:i + max_length]\n",
    "            target_chunk = token_ids[i + 1: i + max_length + 1]\n",
    "            self.input_ids.append(torch.tensor(input_chunk))\n",
    "            self.target_ids.append(torch.tensor(target_chunk))\n",
    "\n",
    "    def __len__(self):\n",
    "        return len(self.input_ids)\n",
    "\n",
    "    def __getitem__(self, idx):\n",
    "        return self.input_ids[idx], self.target_ids[idx]\n",
    "def create_dataloader_v1(txt, batch_size=4, max_length=256, \n",
    "                         stride=128, shuffle=True, drop_last=True,\n",
    "                         num_workers=0):\n",
    "\n",
    "    # Initialize the tokenizer\n",
    "    tokenizer = tiktoken.get_encoding(\"gpt2\")\n",
    "\n",
    "    # Create dataset\n",
    "    dataset = GPTDatasetV1(txt, tokenizer, max_length, stride)\n",
    "\n",
    "    # Create dataloader\n",
    "    dataloader = DataLoader(\n",
    "        dataset,\n",
    "        batch_size=batch_size,\n",
    "        shuffle=shuffle,\n",
    "        drop_last=drop_last,\n",
    "        num_workers=num_workers\n",
    "    )\n",
    "\n",
    "    return dataloader\n",
    "\n",
    "with open(\"the-verdict.txt\", \"r\", encoding=\"utf-8\") as f:\n",
    "    raw_text = f.read()\n",
    "    \n",
    "dataloader = create_dataloader_v1(\n",
    "    raw_text, batch_size=1, max_length=2, stride=2, shuffle=False\n",
    ")\n",
    "data_iter = iter(dataloader)\n",
    "inputs = next(data_iter)\n",
    "print(\"Inputs with max_length = 2 :\\n\", inputs)\n",
    "outputs = next(data_iter)\n",
    "print(\"Outputs with max_length = 2 :\\n\", outputs)\n",
    "\n",
    "dataloader = create_dataloader_v1(\n",
    "    raw_text, batch_size=1, max_length=8, stride=2, shuffle=False\n",
    ")\n",
    "data_iter = iter(dataloader)\n",
    "inputs = next(data_iter)\n",
    "print(\"Inputs with max_length = 8 :\\n\", inputs)\n",
    "outputs = next(data_iter)\n",
    "print(\"Outputs with max_length = 8 :\\n\", outputs)\n"
   ]
  },
  {
   "cell_type": "raw",
   "id": "2c888cbc",
   "metadata": {},
   "source": [
    "1. How do changes in max_length and stride affect the input-output mappings produced by the data loader?\n",
    "The stride parameter allows overlaps, here the value is 2 so the output token for the current input token is 2 tokens after. The max_length parameter controls the length for the sequence. "
   ]
  },
  {
   "cell_type": "code",
   "execution_count": 47,
   "id": "271472f3",
   "metadata": {},
   "outputs": [
    {
     "name": "stdout",
     "output_type": "stream",
     "text": [
      "Inputs with max_length = 4 & stride = 4 & batch_size = 8 :\n",
      " [tensor([[   40,   367,  2885,  1464],\n",
      "        [ 1807,  3619,   402,   271],\n",
      "        [10899,  2138,   257,  7026],\n",
      "        [15632,   438,  2016,   257],\n",
      "        [  922,  5891,  1576,   438],\n",
      "        [  568,   340,   373,   645],\n",
      "        [ 1049,  5975,   284,   502],\n",
      "        [  284,  3285,   326,    11]]), tensor([[  367,  2885,  1464,  1807],\n",
      "        [ 3619,   402,   271, 10899],\n",
      "        [ 2138,   257,  7026, 15632],\n",
      "        [  438,  2016,   257,   922],\n",
      "        [ 5891,  1576,   438,   568],\n",
      "        [  340,   373,   645,  1049],\n",
      "        [ 5975,   284,   502,   284],\n",
      "        [ 3285,   326,    11,   287]])]\n",
      "Outputs with max_length = 4 & stride = 4 & batch_size = 8:\n",
      " [tensor([[  287,   262,  6001,   286],\n",
      "        [  465, 13476,    11,   339],\n",
      "        [  550,  5710,   465, 12036],\n",
      "        [   11,  6405,   257,  5527],\n",
      "        [27075,    11,   290,  4920],\n",
      "        [ 2241,   287,   257,  4489],\n",
      "        [   64,   319,   262, 34686],\n",
      "        [41976,    13,   357, 10915]]), tensor([[  262,  6001,   286,   465],\n",
      "        [13476,    11,   339,   550],\n",
      "        [ 5710,   465, 12036,    11],\n",
      "        [ 6405,   257,  5527, 27075],\n",
      "        [   11,   290,  4920,  2241],\n",
      "        [  287,   257,  4489,    64],\n",
      "        [  319,   262, 34686, 41976],\n",
      "        [   13,   357, 10915,   314]])]\n"
     ]
    }
   ],
   "source": [
    "dataloader = create_dataloader_v1(\n",
    "    raw_text, batch_size=8, max_length=4, stride=4, shuffle=False\n",
    ")\n",
    "data_iter = iter(dataloader)\n",
    "inputs = next(data_iter)\n",
    "print(\"Inputs with max_length = 4 & stride = 4 & batch_size = 8 :\\n\", inputs)\n",
    "outputs = next(data_iter)\n",
    "print(\"Outputs with max_length = 4 & stride = 4 & batch_size = 8:\\n\", outputs)"
   ]
  },
  {
   "cell_type": "raw",
   "id": "59615d8d",
   "metadata": {},
   "source": [
    "2. What differences do you observe in the data when using a batch size of 8 compared to a batch size of 1?\n",
    "Each sequences is composed of 8 batches, it makes the 8 times longer sequences in order to increase stability / accuracy but trading training time / computation ressources."
   ]
  },
  {
   "cell_type": "code",
   "execution_count": null,
   "id": "b1671bb0",
   "metadata": {},
   "outputs": [],
   "source": []
  },
  {
   "cell_type": "raw",
   "id": "4ee77c3f",
   "metadata": {},
   "source": [
    "3. How does using a larger stride (e.g., `stride=4`) influence the coverage of the dataset and the overlap between sequences? \n",
    "As we can see there is no overlap between inputs and ouputs because the maxlength is 4 and stride is 4. If we change the maxlength to 5 we would have 1 overlapping value: \n",
    "We can see in the 2 first lines '[   40,   367,  2885,  1464],[ 2885,  1464,  1807,  3619]' with the stride value of 2 the tokens 2885 and 1464 is repeated in each sequences. With stride 4 and max_length 4 there is not redundancy. "
   ]
  },
  {
   "cell_type": "code",
   "execution_count": 63,
   "id": "7b590834",
   "metadata": {},
   "outputs": [
    {
     "name": "stdout",
     "output_type": "stream",
     "text": [
      "Inputs with max_length = 4 & stride = 2 & batch_size = 8 :\n",
      " [tensor([[   40,   367,  2885,  1464],\n",
      "        [ 2885,  1464,  1807,  3619],\n",
      "        [ 1807,  3619,   402,   271],\n",
      "        [  402,   271, 10899,  2138],\n",
      "        [10899,  2138,   257,  7026],\n",
      "        [  257,  7026, 15632,   438],\n",
      "        [15632,   438,  2016,   257],\n",
      "        [ 2016,   257,   922,  5891]]), tensor([[  367,  2885,  1464,  1807],\n",
      "        [ 1464,  1807,  3619,   402],\n",
      "        [ 3619,   402,   271, 10899],\n",
      "        [  271, 10899,  2138,   257],\n",
      "        [ 2138,   257,  7026, 15632],\n",
      "        [ 7026, 15632,   438,  2016],\n",
      "        [  438,  2016,   257,   922],\n",
      "        [  257,   922,  5891,  1576]])]\n",
      "Outputs with max_length = 4 & stride = 2 & batch_size = 8:\n",
      " [tensor([[ 922, 5891, 1576,  438],\n",
      "        [1576,  438,  568,  340],\n",
      "        [ 568,  340,  373,  645],\n",
      "        [ 373,  645, 1049, 5975],\n",
      "        [1049, 5975,  284,  502],\n",
      "        [ 284,  502,  284, 3285],\n",
      "        [ 284, 3285,  326,   11],\n",
      "        [ 326,   11,  287,  262]]), tensor([[5891, 1576,  438,  568],\n",
      "        [ 438,  568,  340,  373],\n",
      "        [ 340,  373,  645, 1049],\n",
      "        [ 645, 1049, 5975,  284],\n",
      "        [5975,  284,  502,  284],\n",
      "        [ 502,  284, 3285,  326],\n",
      "        [3285,  326,   11,  287],\n",
      "        [  11,  287,  262, 6001]])]\n"
     ]
    }
   ],
   "source": [
    "dataloader = create_dataloader_v1(\n",
    "    raw_text, batch_size=8, max_length=4, stride=2, shuffle=False\n",
    ")\n",
    "data_iter = iter(dataloader)\n",
    "inputs = next(data_iter)\n",
    "print(\"Inputs with max_length = 4 & stride = 2 & batch_size = 8 :\\n\", inputs)\n",
    "outputs = next(data_iter)\n",
    "print(\"Outputs with max_length = 4 & stride = 2 & batch_size = 8:\\n\", outputs)"
   ]
  }
 ],
 "metadata": {
  "kernelspec": {
   "display_name": "Python 3 (ipykernel)",
   "language": "python",
   "name": "python3"
  },
  "language_info": {
   "codemirror_mode": {
    "name": "ipython",
    "version": 3
   },
   "file_extension": ".py",
   "mimetype": "text/x-python",
   "name": "python",
   "nbconvert_exporter": "python",
   "pygments_lexer": "ipython3",
   "version": "3.9.13"
  }
 },
 "nbformat": 4,
 "nbformat_minor": 5
}
